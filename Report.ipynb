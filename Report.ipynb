{
 "cells": [
  {
   "cell_type": "markdown",
   "metadata": {},
   "source": [
    "# SC42150 - Python assignment 1\n",
    "\n",
    "## Simulating a Stochastic Damped Harmonic Oscillator \n",
    "\n",
    "This is the template for for the first Phyton assignment given in the course SC42150. Use this template to answer the question. "
   ]
  },
  {
   "cell_type": "markdown",
   "metadata": {},
   "source": [
    "# Team members\n",
    "\n",
    "Name (student number): Fouskidis, Dimitrios (5384605)\n",
    "\n",
    "Name (student number): Seferlis, Ilias (5385326)"
   ]
  },
  {
   "cell_type": "markdown",
   "metadata": {},
   "source": [
    "## Question 1\n",
    "If the random process $x(k)$ is wide-sense stationary (WSS), what can you say about its mean and variance? And what if the process is not WSS? **1 point**"
   ]
  },
  {
   "cell_type": "markdown",
   "metadata": {},
   "source": [
    "### Answer 1\n",
    "\n",
    " A stochastic process x(n) is Wide-Sense Stationary (WSS), if it satisfies the following three conditions:\n",
    "\n",
    "1. $m_x(k) = m_x < 1$, which means that the mean is constant and finite.\n",
    "2. $r_x(k,λ) = r_x(k-λ)$, which means that the auto correlation function can be written as the difference of two time variables. \n",
    "3. $E[x(t)^2] < \\infty$, which means that the variance is finite.\n"
   ]
  },
  {
   "cell_type": "markdown",
   "metadata": {},
   "source": [
    "## Question 2\n",
    "Approximate the derivative operator $\\frac{d(\\cdot)}{d t}$ and the second order derivative operator $\\frac{d^2(\\cdot)}{d t^2}$.  Subsequently replace the white noise signal $w(t)$ by a discrete white noise sequence as out lined in the theory section. Let $x(k)$ be an approximation of $x(t)$ for $t = k \\Delta t$, then we ask you to write your result into the following second order difference equation form\n",
    "\n",
    "$$ x(k)+ b_1 x(k-1) + b_2 x(k-2) = b_3 \\tilde{w}(k).$$\n",
    "\n",
    "Provide:\n",
    "\n",
    "* *derivation for the second order difference equation* **2 points**\n",
    "* *analytic expression for $b_1$, $b_2$, and $b_3$* **1 point**\n",
    "* *numerical values for $b_1$, $b_2$, and $b_3$* **1 point**\n"
   ]
  },
  {
   "cell_type": "markdown",
   "metadata": {},
   "source": [
    "### Answer 2\n",
    "Applying the Euler's approximation for the first order derivative twice:\n",
    "\n",
    "$ \\dot x(t) \\approx \\frac{x(k)-x(k-1)}{Δt}$ and $ \\ddot{x}(t) \\approx \\frac{\\dot{x}(k) - \\dot{x}(k-1)}{Δt} \\approx \\frac{\\frac{\\dot{x}(k) - \\dot{x}(k-1)}{Δt}}{Δt}$\n",
    "\n",
    "and substituting in the diffential equation\n",
    "\n",
    "we get that\n"
   ]
  },
  {
   "cell_type": "markdown",
   "metadata": {},
   "source": [
    "## Question 3\n",
    "\n",
    "Determine the Z-transform of the dynamical system described by the difference equation from the previous question. Also determine the poles, both analytically and numerically. Is this system (BIBO) stable?\n",
    "\n",
    "Provide:\n",
    "\n",
    "* *The Z-transform of the dynamical system.* **$\\frac{1}{2}$ point**\n",
    "* *The poles analytically.* **$\\frac{1}{2}$ point**\n",
    "* *The poles numerically.* **$\\frac{1}{2}$ point**\n",
    "* *Is the system is BIBO stable? (explain why)* **$\\frac{1}{2}$ point**"
   ]
  },
  {
   "cell_type": "markdown",
   "metadata": {},
   "source": [
    "### Answer 3\n",
    "_Insert the cells with your answer below._"
   ]
  },
  {
   "cell_type": "markdown",
   "metadata": {},
   "source": [
    "## Question 4\n",
    "\n",
    "Simulate the difference equation of question 2 for $k = 3,\\cdots ,N$ using the initial conditions $x(1) = x(2) = 0$. To do this you should generate discrete white noise samples using `numpy.random.randn()`.\n",
    "\n",
    "Provide:\n",
    "\n",
    "* *the script used to generate $N$ samples of $x(k)$.* **1 point**\n",
    "* *a plot of one realization of sequence $x(k)$.* **1 point**"
   ]
  },
  {
   "cell_type": "markdown",
   "metadata": {},
   "source": [
    "### Answer 4\n",
    "_Insert the cells with your answer below._"
   ]
  },
  {
   "cell_type": "markdown",
   "metadata": {},
   "source": [
    "## Question 5\n",
    "\n",
    "Let us denote one realization of the solution of the difference equation by $x(k,\\lambda)$ for $\\lambda = 1$ and the used white noise sequence by ˜ $w(k,1)$. Then the task is to generate $L$ realizations $x(k,\\lambda)$ for $\\lambda = 1,\\cdots,L$, with each realization generated for a different realization of the discrete time white noise sequence ˜ $w(k,\\lambda)$. \n",
    "\n",
    "provide:\n",
    "\n",
    "* *script use to generate $L$ realizations of $x(k,\\lambda)$.* **1 point**\n",
    "* *plot of all $L$ realizations for $L = 30$.* **1 point**"
   ]
  },
  {
   "cell_type": "markdown",
   "metadata": {},
   "source": [
    "### Answer 5\n",
    "_Insert the cells with your answer below._"
   ]
  },
  {
   "cell_type": "markdown",
   "metadata": {},
   "source": [
    "## Question 6\n",
    "\n",
    "Using the L realizations of the previous questions, estimate the mean and variance of the stochastic process $x(k)$. Here, you can use the approximation \n",
    "\n",
    "$$E[x(k)] \\sim \\frac{1}{L} \\sum^{L}_{\\lambda = 1} x(k, \\lambda)$$\n",
    "\n",
    "and a similar approximation for the variance, or use the available built-in `numpy` commands. \n",
    "\n",
    "Provide:\n",
    "\n",
    "* *A script to calculate the mean and variance.* **1 point**\n",
    "* *A plot of the mean and the variance over time.* **1 point**\n"
   ]
  },
  {
   "cell_type": "markdown",
   "metadata": {},
   "source": [
    "### Answer 6\n",
    "_Insert the cells with your answer below._"
   ]
  },
  {
   "cell_type": "markdown",
   "metadata": {},
   "source": [
    "## Question 7\n",
    "Based on the results of the previous question, is the the stochastic process $x(k)$ WSS? Why or why not? **1 point**"
   ]
  },
  {
   "cell_type": "markdown",
   "metadata": {},
   "source": [
    "### Answer 7\n",
    "_Insert the cells with your answer below._"
   ]
  },
  {
   "cell_type": "markdown",
   "metadata": {},
   "source": [
    "## Question 8\n",
    "\n",
    "The mean and variance of the stochastic process $x(t)$ can also be calculated analytically. This leads to the following expressions,\n",
    "\n",
    "$$ \\mu_x (t) = e^{-\\gamma t/2}\\bigg( x_0 \\cos(\\omega' t) + \\gamma x_0 \\frac{\\sin(\\omega' t)}{2 \\omega'} \\bigg), $$\n",
    "\n",
    "$$ \\sigma^2_x (t) = \\frac{\\beta^2}{2\\gamma \\omega^2} + e^{-\\gamma t} \\bigg( \\frac{\\beta^2}{8\\gamma \\omega'^2 \\omega^2} \\bigg)\n",
    "\\big(  -4\\omega^2 + \\gamma^2 \\cos(\\omega' t) - 2\\gamma \\omega' \\sin(2 \\omega' t)\\big). $$\n",
    "\n",
    "Here, $\\omega'$ is another frequency parameter with the value $\\omega' = \\sqrt{\\omega^2-\\gamma^2/4}$, and $x_0$ is the value of $x$ at time $t = 0$(note that in this case this value greatly simplifies  the expression). Compare the theoretical mean and variance with the estimated ones from question $6$ for different values of $L$.\n",
    "\n",
    "provide:\n",
    "\n",
    "* *The script used to calculate the theoretical mean and variance.* **1 point**\n",
    "* *A plot of both the theoretical mean and variance together with the estimated onces from question $6$ as a function of time. Plot all four sequences in one plot. make three plots one for $L = 30$, one for $L = 300$, and one for $L = 3000$.* **2 points**"
   ]
  },
  {
   "cell_type": "markdown",
   "metadata": {},
   "source": [
    "### Answer 8\n",
    "_Insert the cells with your answer below._"
   ]
  },
  {
   "cell_type": "markdown",
   "metadata": {},
   "source": [
    "## Question  9\n",
    "How do the estimations of the mean and variance vary with respect to the number of realizations $L$? **1 point**"
   ]
  },
  {
   "cell_type": "markdown",
   "metadata": {},
   "source": [
    "### Answer 9\n",
    "_Insert the cells with your answer below._"
   ]
  },
  {
   "cell_type": "markdown",
   "metadata": {},
   "source": [
    "## Question 10\n",
    "\n",
    "Use the results from questions 6-9 and from question 3 to make a final conclusion on whether the stochastic process $x(k)$ is WSS or not, with motivation. **2 points**\n"
   ]
  },
  {
   "cell_type": "markdown",
   "metadata": {},
   "source": [
    "### Answer 10\n",
    "_Insert the cells with your answer below._"
   ]
  }
 ],
 "metadata": {
  "celltoolbar": "Raw Cell Format",
  "kernelspec": {
   "display_name": "Python 3",
   "language": "python",
   "name": "python3"
  },
  "language_info": {
   "codemirror_mode": {
    "name": "ipython",
    "version": 3
   },
   "file_extension": ".py",
   "mimetype": "text/x-python",
   "name": "python",
   "nbconvert_exporter": "python",
   "pygments_lexer": "ipython3",
   "version": "3.8.3"
  }
 },
 "nbformat": 4,
 "nbformat_minor": 2
}
